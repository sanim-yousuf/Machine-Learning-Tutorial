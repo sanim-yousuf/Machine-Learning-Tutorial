{
  "cells": [
    {
      "cell_type": "code",
      "execution_count": null,
      "metadata": {
        "id": "xSPiykZbNMx-"
      },
      "outputs": [],
      "source": [
        "# importing numpy library\n",
        "\n",
        "import numpy as np"
      ]
    },
    {
      "cell_type": "markdown",
      "metadata": {
        "id": "HKeDvDScPlZc"
      },
      "source": [
        "# Declaring array"
      ]
    },
    {
      "cell_type": "code",
      "execution_count": null,
      "metadata": {
        "colab": {
          "base_uri": "https://localhost:8080/"
        },
        "id": "S1X6f5RqNYSP",
        "outputId": "695ce41a-8ae2-4e57-e763-8c075be8ed55"
      },
      "outputs": [
        {
          "data": {
            "text/plain": [
              "array([ 1,  3, 45,  6,  2], dtype=int16)"
            ]
          },
          "execution_count": 2,
          "metadata": {},
          "output_type": "execute_result"
        }
      ],
      "source": [
        "a = np.array([1,3,45,6,2],dtype='int16')\n",
        "a"
      ]
    },
    {
      "cell_type": "code",
      "execution_count": null,
      "metadata": {
        "colab": {
          "base_uri": "https://localhost:8080/"
        },
        "id": "BcIsGUTbNda7",
        "outputId": "8d7bff35-caf8-480a-9c1a-19be26d41afb"
      },
      "outputs": [
        {
          "data": {
            "text/plain": [
              "array([[ 1, 23,  4,  5,  6,  6],\n",
              "       [ 4,  3, 22, 44,  5,  4]])"
            ]
          },
          "execution_count": 3,
          "metadata": {},
          "output_type": "execute_result"
        }
      ],
      "source": [
        "#two dimensional array\n",
        "b = np.array([[1,23,4,5,6,6],[4,3,22,44,5,4]])\n",
        "b"
      ]
    },
    {
      "cell_type": "code",
      "execution_count": null,
      "metadata": {
        "colab": {
          "base_uri": "https://localhost:8080/"
        },
        "id": "g-piQk-MNppt",
        "outputId": "a11e984c-b444-4657-9839-b62070f611af"
      },
      "outputs": [
        {
          "data": {
            "text/plain": [
              "1"
            ]
          },
          "execution_count": 4,
          "metadata": {},
          "output_type": "execute_result"
        }
      ],
      "source": [
        "#dimension of an array\n",
        "a.ndim"
      ]
    },
    {
      "cell_type": "code",
      "execution_count": null,
      "metadata": {
        "colab": {
          "base_uri": "https://localhost:8080/"
        },
        "id": "yTzJmEmjOmOL",
        "outputId": "09608ddc-173e-447c-d09d-b533d746279e"
      },
      "outputs": [
        {
          "data": {
            "text/plain": [
              "(2, 6)"
            ]
          },
          "execution_count": 5,
          "metadata": {},
          "output_type": "execute_result"
        }
      ],
      "source": [
        "b.shape"
      ]
    },
    {
      "cell_type": "code",
      "execution_count": null,
      "metadata": {
        "colab": {
          "base_uri": "https://localhost:8080/"
        },
        "id": "sp7nK5hiOnVK",
        "outputId": "2a84b6d0-1fab-4af5-d0b3-de2f34482a19"
      },
      "outputs": [
        {
          "data": {
            "text/plain": [
              "dtype('int64')"
            ]
          },
          "execution_count": 6,
          "metadata": {},
          "output_type": "execute_result"
        }
      ],
      "source": [
        "b.dtype"
      ]
    },
    {
      "cell_type": "code",
      "execution_count": null,
      "metadata": {
        "colab": {
          "base_uri": "https://localhost:8080/"
        },
        "id": "vvK8_28_OszC",
        "outputId": "2becb73b-ed7c-4881-e8d8-95579ae2ca43"
      },
      "outputs": [
        {
          "data": {
            "text/plain": [
              "dtype('int16')"
            ]
          },
          "execution_count": 7,
          "metadata": {},
          "output_type": "execute_result"
        }
      ],
      "source": [
        "a.dtype"
      ]
    },
    {
      "cell_type": "code",
      "execution_count": null,
      "metadata": {
        "colab": {
          "base_uri": "https://localhost:8080/"
        },
        "id": "vRlV_2dQOvNM",
        "outputId": "d85892dc-5f1a-4612-d122-1925224f1424"
      },
      "outputs": [
        {
          "data": {
            "text/plain": [
              "dtype('int16')"
            ]
          },
          "execution_count": 8,
          "metadata": {},
          "output_type": "execute_result"
        }
      ],
      "source": [
        "a.dtype"
      ]
    },
    {
      "cell_type": "code",
      "execution_count": null,
      "metadata": {
        "colab": {
          "base_uri": "https://localhost:8080/"
        },
        "id": "ryNFVpJDO6G8",
        "outputId": "99d29b3a-b1b4-4b5a-864a-d2933fb4138f"
      },
      "outputs": [
        {
          "data": {
            "text/plain": [
              "2"
            ]
          },
          "execution_count": 9,
          "metadata": {},
          "output_type": "execute_result"
        }
      ],
      "source": [
        "#single item size\n",
        "a.itemsize"
      ]
    },
    {
      "cell_type": "code",
      "execution_count": null,
      "metadata": {
        "colab": {
          "base_uri": "https://localhost:8080/"
        },
        "id": "YyY6ehKCPCrT",
        "outputId": "85f89b4d-1583-4043-b8a9-7127e400701e"
      },
      "outputs": [
        {
          "data": {
            "text/plain": [
              "8"
            ]
          },
          "execution_count": 10,
          "metadata": {},
          "output_type": "execute_result"
        }
      ],
      "source": [
        "b.itemsize"
      ]
    },
    {
      "cell_type": "code",
      "execution_count": null,
      "metadata": {
        "colab": {
          "base_uri": "https://localhost:8080/"
        },
        "id": "-Y8ZBqlFPD87",
        "outputId": "bceb1f09-294c-4f34-f360-11b9312587bf"
      },
      "outputs": [
        {
          "data": {
            "text/plain": [
              "96"
            ]
          },
          "execution_count": 11,
          "metadata": {},
          "output_type": "execute_result"
        }
      ],
      "source": [
        "#total size\n",
        "b.nbytes"
      ]
    },
    {
      "cell_type": "markdown",
      "metadata": {
        "id": "OYoLq86aPy_P"
      },
      "source": [
        "# Accessign or chanaging specific elements, rows or columns\n"
      ]
    },
    {
      "cell_type": "code",
      "execution_count": null,
      "metadata": {
        "colab": {
          "base_uri": "https://localhost:8080/"
        },
        "id": "UUnSozlwQU12",
        "outputId": "17f8872b-3646-41b6-d2b9-03bf2de62bc3"
      },
      "outputs": [
        {
          "name": "stdout",
          "output_type": "stream",
          "text": [
            "[[ 1 23  4  5  6  6]\n",
            " [ 4  3 22 44  5  4]]\n"
          ]
        }
      ],
      "source": [
        "print(b)"
      ]
    },
    {
      "cell_type": "code",
      "execution_count": null,
      "metadata": {
        "colab": {
          "base_uri": "https://localhost:8080/"
        },
        "id": "WiLPWpxEPM68",
        "outputId": "629881c0-eee7-4bf5-a55d-992832d8fb18"
      },
      "outputs": [
        {
          "name": "stdout",
          "output_type": "stream",
          "text": [
            "44\n"
          ]
        }
      ],
      "source": [
        "# get a specific element\n",
        "\n",
        "print(b[1][3])"
      ]
    },
    {
      "cell_type": "code",
      "execution_count": null,
      "metadata": {
        "colab": {
          "base_uri": "https://localhost:8080/"
        },
        "id": "bMj1ZwquQI9A",
        "outputId": "94e310e7-79dd-4179-b17e-49dc8229bbf8"
      },
      "outputs": [
        {
          "name": "stdout",
          "output_type": "stream",
          "text": [
            "4\n"
          ]
        }
      ],
      "source": [
        "# get the last element\n",
        "\n",
        "print(b[1][-1])"
      ]
    },
    {
      "cell_type": "code",
      "execution_count": null,
      "metadata": {
        "colab": {
          "base_uri": "https://localhost:8080/"
        },
        "id": "qasLWQFuQbto",
        "outputId": "a220d9cb-48f4-4553-88c9-174a52930511"
      },
      "outputs": [
        {
          "name": "stdout",
          "output_type": "stream",
          "text": [
            "[ 1 23  4  5  6  6]\n"
          ]
        }
      ],
      "source": [
        "# get a specific row\n",
        "\n",
        "print(b[0, :])"
      ]
    },
    {
      "cell_type": "code",
      "execution_count": null,
      "metadata": {
        "colab": {
          "base_uri": "https://localhost:8080/"
        },
        "id": "aOpBq4EKQooa",
        "outputId": "8d9eb612-7599-48f0-86c4-738cc274f0b5"
      },
      "outputs": [
        {
          "name": "stdout",
          "output_type": "stream",
          "text": [
            "[ 4 22]\n"
          ]
        }
      ],
      "source": [
        "# get a specific column\n",
        "\n",
        "print(b[:, 2])"
      ]
    },
    {
      "cell_type": "code",
      "execution_count": null,
      "metadata": {
        "colab": {
          "base_uri": "https://localhost:8080/"
        },
        "id": "Z4fVOhcbQwk7",
        "outputId": "28371243-304c-49d3-f168-5c6130fa8a05"
      },
      "outputs": [
        {
          "name": "stdout",
          "output_type": "stream",
          "text": [
            "[23  5  6]\n"
          ]
        }
      ],
      "source": [
        "# control the step size\n",
        "\n",
        "print(b[0, 1:6:2])"
      ]
    },
    {
      "cell_type": "code",
      "execution_count": null,
      "metadata": {
        "colab": {
          "base_uri": "https://localhost:8080/"
        },
        "id": "0fkAXeB9RNKL",
        "outputId": "d277b854-3c64-4562-83c7-019a6af966d8"
      },
      "outputs": [
        {
          "data": {
            "text/plain": [
              "array([[ 1, 33,  4,  5,  6,  6],\n",
              "       [ 4,  3, 22, 44,  5,  4]])"
            ]
          },
          "execution_count": 18,
          "metadata": {},
          "output_type": "execute_result"
        }
      ],
      "source": [
        "# change an element\n",
        "\n",
        "b[0,1] = 33\n",
        "b"
      ]
    },
    {
      "cell_type": "markdown",
      "metadata": {
        "id": "cOqm-EmqlIH2"
      },
      "source": [
        "# Different types of Arrays"
      ]
    },
    {
      "cell_type": "code",
      "execution_count": null,
      "metadata": {
        "colab": {
          "base_uri": "https://localhost:8080/"
        },
        "id": "o1acAGcaRlKs",
        "outputId": "9f894225-7d02-4279-a063-76a23257b55e"
      },
      "outputs": [
        {
          "data": {
            "text/plain": [
              "array([[[0., 0., 0.],\n",
              "        [0., 0., 0.],\n",
              "        [0., 0., 0.]],\n",
              "\n",
              "       [[0., 0., 0.],\n",
              "        [0., 0., 0.],\n",
              "        [0., 0., 0.]]])"
            ]
          },
          "execution_count": 19,
          "metadata": {},
          "output_type": "execute_result"
        }
      ],
      "source": [
        "# zero matrix\n",
        "np.zeros((2,3,3))"
      ]
    },
    {
      "cell_type": "code",
      "execution_count": null,
      "metadata": {
        "colab": {
          "base_uri": "https://localhost:8080/"
        },
        "id": "4tbZsiBalPhT",
        "outputId": "32b94199-3db2-43f1-a56e-a68866036e81"
      },
      "outputs": [
        {
          "data": {
            "text/plain": [
              "array([[1, 1, 1, 1],\n",
              "       [1, 1, 1, 1],\n",
              "       [1, 1, 1, 1],\n",
              "       [1, 1, 1, 1]], dtype=int8)"
            ]
          },
          "execution_count": 20,
          "metadata": {},
          "output_type": "execute_result"
        }
      ],
      "source": [
        "# all 1 matrix\n",
        "\n",
        "np.ones((4,4), dtype='int8')"
      ]
    },
    {
      "cell_type": "code",
      "execution_count": null,
      "metadata": {
        "colab": {
          "base_uri": "https://localhost:8080/"
        },
        "id": "HtqL-aWVljMD",
        "outputId": "6ff1084b-038c-4780-b885-bef2ee424e92"
      },
      "outputs": [
        {
          "data": {
            "text/plain": [
              "array([[88, 88, 88],\n",
              "       [88, 88, 88],\n",
              "       [88, 88, 88]])"
            ]
          },
          "execution_count": 21,
          "metadata": {},
          "output_type": "execute_result"
        }
      ],
      "source": [
        "# using any number\n",
        "\n",
        "np.full((3,3), 88)"
      ]
    },
    {
      "cell_type": "code",
      "execution_count": null,
      "metadata": {
        "colab": {
          "base_uri": "https://localhost:8080/"
        },
        "id": "YxxzGBHul2gz",
        "outputId": "cd335e3e-8891-41af-cfe7-efff57bdbec1"
      },
      "outputs": [
        {
          "data": {
            "text/plain": [
              "array([10, 10, 10, 10, 10], dtype=int16)"
            ]
          },
          "execution_count": 22,
          "metadata": {},
          "output_type": "execute_result"
        }
      ],
      "source": [
        "# copy the shape of another matrix/array\n",
        "\n",
        "np.full_like(a, 10)"
      ]
    },
    {
      "cell_type": "code",
      "execution_count": null,
      "metadata": {
        "colab": {
          "base_uri": "https://localhost:8080/"
        },
        "id": "XQ0On7FJmLK7",
        "outputId": "58ed9bab-5111-41a3-c585-9439b74bd4f8"
      },
      "outputs": [
        {
          "data": {
            "text/plain": [
              "array([[0.6651037 , 0.24531705, 0.13124723],\n",
              "       [0.81892776, 0.30869859, 0.1070101 ],\n",
              "       [0.86001097, 0.54812802, 0.20911423]])"
            ]
          },
          "execution_count": 23,
          "metadata": {},
          "output_type": "execute_result"
        }
      ],
      "source": [
        "# array of random numbers\n",
        "\n",
        "np.random.rand(3,3)"
      ]
    },
    {
      "cell_type": "code",
      "execution_count": null,
      "metadata": {
        "colab": {
          "base_uri": "https://localhost:8080/"
        },
        "id": "EySmsqXYocad",
        "outputId": "7986ac76-f752-46a8-bc50-c8e67061ee2f"
      },
      "outputs": [
        {
          "data": {
            "text/plain": [
              "array([0.95211947, 0.10467259, 0.80947217, 0.315889  , 0.77877889])"
            ]
          },
          "execution_count": 24,
          "metadata": {},
          "output_type": "execute_result"
        }
      ],
      "source": [
        "np.random.random_sample(a.shape)"
      ]
    },
    {
      "cell_type": "code",
      "execution_count": null,
      "metadata": {
        "colab": {
          "base_uri": "https://localhost:8080/"
        },
        "id": "ZENxr-1zm0nb",
        "outputId": "e7022eac-245d-4488-afb8-fbf43d8b9867"
      },
      "outputs": [
        {
          "data": {
            "text/plain": [
              "array([[10, 12, 14],\n",
              "       [14, 10, 12],\n",
              "       [12, 12, 12]])"
            ]
          },
          "execution_count": 25,
          "metadata": {},
          "output_type": "execute_result"
        }
      ],
      "source": [
        "# array of random numbers with selected data type\n",
        "\n",
        "np.random.randint(10, high=15 ,size=(3,3)) # high is optional"
      ]
    },
    {
      "cell_type": "code",
      "execution_count": null,
      "metadata": {
        "colab": {
          "base_uri": "https://localhost:8080/"
        },
        "id": "mKNBQfHmoE6x",
        "outputId": "7cfe2630-00e6-4c78-9edc-d7fb2cda9b40"
      },
      "outputs": [
        {
          "data": {
            "text/plain": [
              "array([[ 2,  0,  2],\n",
              "       [ 1,  4,  0],\n",
              "       [-2,  4,  4]])"
            ]
          },
          "execution_count": 26,
          "metadata": {},
          "output_type": "execute_result"
        }
      ],
      "source": [
        "np.random.randint(-2,5, size=(3,3))"
      ]
    },
    {
      "cell_type": "code",
      "execution_count": null,
      "metadata": {
        "colab": {
          "base_uri": "https://localhost:8080/"
        },
        "id": "EsP0PxyLpLeA",
        "outputId": "a7cb0fb8-7e4a-4cf9-e679-7f49f0f76a09"
      },
      "outputs": [
        {
          "data": {
            "text/plain": [
              "array([[1, 0, 0, 0, 0],\n",
              "       [0, 1, 0, 0, 0],\n",
              "       [0, 0, 1, 0, 0],\n",
              "       [0, 0, 0, 1, 0],\n",
              "       [0, 0, 0, 0, 1]], dtype=int8)"
            ]
          },
          "execution_count": 27,
          "metadata": {},
          "output_type": "execute_result"
        }
      ],
      "source": [
        "# indentity matrix\n",
        "\n",
        "np.identity(5, dtype='int8')"
      ]
    },
    {
      "cell_type": "code",
      "execution_count": null,
      "metadata": {
        "colab": {
          "base_uri": "https://localhost:8080/"
        },
        "id": "CXE5-peJpYOB",
        "outputId": "15bae11a-56ac-4ef1-ffa6-593c1cbf62ac"
      },
      "outputs": [
        {
          "data": {
            "text/plain": [
              "array([1, 1, 1, 2, 2, 2, 4, 4, 4])"
            ]
          },
          "execution_count": 28,
          "metadata": {},
          "output_type": "execute_result"
        }
      ],
      "source": [
        "# repeat values\n",
        "\n",
        "arr = np.array([1,2,4])\n",
        "r1 = np.repeat(arr, 3)\n",
        "r1"
      ]
    },
    {
      "cell_type": "code",
      "execution_count": null,
      "metadata": {
        "colab": {
          "base_uri": "https://localhost:8080/"
        },
        "id": "2s2PS06Lpm4W",
        "outputId": "0733052e-51ab-470d-efe7-39fd35c23899"
      },
      "outputs": [
        {
          "data": {
            "text/plain": [
              "array([[1, 2, 4],\n",
              "       [1, 2, 4],\n",
              "       [1, 2, 4]])"
            ]
          },
          "execution_count": 29,
          "metadata": {},
          "output_type": "execute_result"
        }
      ],
      "source": [
        "arr = np.array([[1,2,4]])\n",
        "r1 = np.repeat(arr, 3, axis=0)\n",
        "r1"
      ]
    },
    {
      "cell_type": "code",
      "execution_count": null,
      "metadata": {
        "colab": {
          "base_uri": "https://localhost:8080/"
        },
        "id": "96gHwFn8p0nY",
        "outputId": "d2485490-5a40-4876-8309-d2dc1d8af470"
      },
      "outputs": [
        {
          "name": "stdout",
          "output_type": "stream",
          "text": [
            "[[1 1 1 1 1]\n",
            " [1 1 1 1 1]\n",
            " [1 1 1 1 1]\n",
            " [1 1 1 1 1]\n",
            " [1 1 1 1 1]]\n",
            "[[0 0 0]\n",
            " [0 0 0]\n",
            " [0 0 0]]\n"
          ]
        }
      ],
      "source": [
        "one = np.ones((5,5), dtype='int8')\n",
        "print(one)\n",
        "zero = np.zeros((3,3), dtype='int8')\n",
        "\n",
        "print(zero)"
      ]
    },
    {
      "cell_type": "code",
      "execution_count": null,
      "metadata": {
        "colab": {
          "base_uri": "https://localhost:8080/"
        },
        "id": "zt4fh3Geqdq6",
        "outputId": "c8d1c163-1a19-422c-f460-62ab5fd0db2a"
      },
      "outputs": [
        {
          "data": {
            "text/plain": [
              "array([[0, 0, 0],\n",
              "       [0, 9, 0],\n",
              "       [0, 0, 0]], dtype=int8)"
            ]
          },
          "execution_count": 31,
          "metadata": {},
          "output_type": "execute_result"
        }
      ],
      "source": [
        "zero[1][1] = 9\n",
        "zero"
      ]
    },
    {
      "cell_type": "code",
      "execution_count": null,
      "metadata": {
        "colab": {
          "base_uri": "https://localhost:8080/"
        },
        "id": "pD6XIhdwq8kG",
        "outputId": "c8479c12-02b1-4680-ebc9-a40b6fed1092"
      },
      "outputs": [
        {
          "name": "stdout",
          "output_type": "stream",
          "text": [
            "[[1 1 1 1 1]\n",
            " [1 0 0 0 1]\n",
            " [1 0 9 0 1]\n",
            " [1 0 0 0 1]\n",
            " [1 1 1 1 1]]\n"
          ]
        }
      ],
      "source": [
        "one[1:4, 1:4] = zero\n",
        "print(one)"
      ]
    },
    {
      "cell_type": "code",
      "execution_count": null,
      "metadata": {
        "colab": {
          "base_uri": "https://localhost:8080/"
        },
        "id": "Jmvs-DTerQPP",
        "outputId": "fdf19213-da16-48b6-e5de-877b4fb01084"
      },
      "outputs": [
        {
          "name": "stdout",
          "output_type": "stream",
          "text": [
            "[1 2 3]\n"
          ]
        }
      ],
      "source": [
        "# be carefull while copying arrays\n",
        "\n",
        "m = np.array([1,2,3])\n",
        "n = m\n",
        "print(n)"
      ]
    },
    {
      "cell_type": "code",
      "execution_count": null,
      "metadata": {
        "colab": {
          "base_uri": "https://localhost:8080/"
        },
        "id": "Y4S713wSqIXn",
        "outputId": "8b14974a-db55-459d-b0ab-4ce35d4f0fd5"
      },
      "outputs": [
        {
          "name": "stdout",
          "output_type": "stream",
          "text": [
            "[100   2   3]\n"
          ]
        }
      ],
      "source": [
        "n[0] = 100\n",
        "print(m)"
      ]
    },
    {
      "cell_type": "code",
      "execution_count": null,
      "metadata": {
        "colab": {
          "base_uri": "https://localhost:8080/"
        },
        "id": "-SpAGXzaqOcv",
        "outputId": "4cc26371-c205-466a-9a65-b757dd4228aa"
      },
      "outputs": [
        {
          "name": "stdout",
          "output_type": "stream",
          "text": [
            "[3 4 5]\n"
          ]
        }
      ],
      "source": [
        " # solution\n",
        "\n",
        "s = np.array([3,4,5])\n",
        "p = s.copy()\n",
        "p[0] = 66\n",
        "\n",
        "print(s)"
      ]
    },
    {
      "cell_type": "code",
      "execution_count": null,
      "metadata": {
        "id": "WyV_RRPUqtpB"
      },
      "outputs": [],
      "source": []
    }
  ],
  "metadata": {
    "colab": {
      "provenance": []
    },
    "kernelspec": {
      "display_name": "Python 3",
      "name": "python3"
    },
    "language_info": {
      "name": "python"
    }
  },
  "nbformat": 4,
  "nbformat_minor": 0
}
